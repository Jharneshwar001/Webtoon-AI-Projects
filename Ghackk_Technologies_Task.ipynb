{
 "cells": [
  {
   "cell_type": "markdown",
   "metadata": {
    "id": "LLr4ugNQkmqo"
   },
   "source": [
    "Name- Jharneshwar Singh"
   ]
  },
  {
   "cell_type": "markdown",
   "metadata": {
    "id": "jHOwFTW_9Ui3"
   },
   "source": [
    "**Task 1:**\n",
    "Creating a simple content classifier"
   ]
  },
  {
   "cell_type": "code",
   "execution_count": 1,
   "metadata": {
    "colab": {
     "base_uri": "https://localhost:8080/"
    },
    "id": "y110ykI2iOG0",
    "outputId": "151a575a-c990-4e6b-a898-a555fb0ff8d7"
   },
   "outputs": [
    {
     "name": "stdout",
     "output_type": "stream",
     "text": [
      "Requirement already satisfied: pandas in /usr/local/lib/python3.10/dist-packages (2.2.2)\n",
      "Requirement already satisfied: numpy in /usr/local/lib/python3.10/dist-packages (1.26.4)\n",
      "Requirement already satisfied: scikit-learn in /usr/local/lib/python3.10/dist-packages (1.5.2)\n",
      "Requirement already satisfied: python-dateutil>=2.8.2 in /usr/local/lib/python3.10/dist-packages (from pandas) (2.8.2)\n",
      "Requirement already satisfied: pytz>=2020.1 in /usr/local/lib/python3.10/dist-packages (from pandas) (2024.2)\n",
      "Requirement already satisfied: tzdata>=2022.7 in /usr/local/lib/python3.10/dist-packages (from pandas) (2024.2)\n",
      "Requirement already satisfied: scipy>=1.6.0 in /usr/local/lib/python3.10/dist-packages (from scikit-learn) (1.13.1)\n",
      "Requirement already satisfied: joblib>=1.2.0 in /usr/local/lib/python3.10/dist-packages (from scikit-learn) (1.4.2)\n",
      "Requirement already satisfied: threadpoolctl>=3.1.0 in /usr/local/lib/python3.10/dist-packages (from scikit-learn) (3.5.0)\n",
      "Requirement already satisfied: six>=1.5 in /usr/local/lib/python3.10/dist-packages (from python-dateutil>=2.8.2->pandas) (1.16.0)\n"
     ]
    }
   ],
   "source": [
    "pip install pandas numpy scikit-learn"
   ]
  },
  {
   "cell_type": "code",
   "execution_count": 2,
   "metadata": {
    "id": "DaNL37yIiRDH"
   },
   "outputs": [],
   "source": [
    "import pandas as pd\n",
    "import numpy as np\n",
    "from sklearn.model_selection import train_test_split\n",
    "from sklearn.feature_extraction.text import TfidfVectorizer\n",
    "from sklearn.tree import DecisionTreeClassifier\n",
    "from sklearn.metrics import classification_report\n",
    "from sklearn.preprocessing import LabelEncoder\n"
   ]
  },
  {
   "cell_type": "code",
   "execution_count": 18,
   "metadata": {
    "id": "YdwMfngMicXx"
   },
   "outputs": [],
   "source": [
    "# Creating a sample dataset of webtoons with descriptions and categories\n",
    "webtoons_data = {\n",
    "    'title': [\n",
    "        'Lumine Season 3',\n",
    "        'The Mafia Nanny',\n",
    "        'Love 4 A Walk',\n",
    "        'The Gwichon Village Mystery',\n",
    "        'Remarried Empress Season 4',\n",
    "        'I Am the Strongest Transcendent',\n",
    "        'Surviving the Apocalypse',\n",
    "        'The Dang Clan’s Swordmaster Heir Just Wants A Normal Life',\n",
    "        'Emerald Midnight’s Lover',\n",
    "        'One Husband Is Enough',\n",
    "        'Doctor, Go to Joseon',\n",
    "        'Killdistup!',\n",
    "        'Another Meal Noir',\n",
    "        'The Forces',\n",
    "        'Money Hole',\n",
    "        'Top Star from God',\n",
    "        'Men’s Version Audition',\n",
    "        'Somehow I Became A Sacrifice!',\n",
    "        'Please Read It',\n",
    "        'Dungeon Raiding Is Not Copy And Paste'\n",
    "    ],\n",
    "    'description': [\n",
    "        'Lumine is one of the latest webtoons  comic fans have been waiting for with bated breath. Some are upset because, this time, the story of Lumine and Kody will finally be over. Nonetheless, everyone is excited to know how the story unfolds. As you probably know, the webtoon focuses on the titular werewolf, who is hired as the weak witch Kody’s bodyguard. Since then, the duo has been fighting new characters and trying to fit into this world. Will the Mom arc be finally addressed? Or should the main characters expect a major plot twist? Stay tuned with Lumine to know all about it.',\n",
    "        'How tough it might be to be a Nanny, right? But imagine this: after studying at the Elite Nanny Academy, Daviana’s first assignment is to look after an underboss’ son. As the title of the webtoon suggests, Daviana is  The Mafia Nanny, taking care of Venetian underboss Gabriel Angelini‘s son Mikey. Chapter 1 discloses Daviana’s tragic past – she belonged to a wealthy family, but with money comes power, and with power comes enemies. So, at a very young age, Daviana lost her parents, and her Nanny took care of her and helped her to become an Elite Nanny. Now, with Angelinis in the picture, she can know more about her past. But will she be able to do that? Why did Gabriel pick Daviana despite knowing she had just graduated?',\n",
    "        'Love 4 A Walk follows Pam, who has been dumped a few times, but when she gets dumped over her dog Bob, she decides to protect her heart and never gets romantically interested in someone. However, being a hopeless romantic, Pam can’t resist not crushing on someone for long, especially if that someone is her compassionate neighbour, Tyler. Oh, by the way, Tyler is amazing with dogs.',\n",
    "        'The Gwichon Village Mystery has to be one of those latest webtoons that could easily be adapted for a horror drama. Mumyeong Heo is a killer – why and how he became that, we don’t know yet. All we know is, “It so happens that this is something I enjoy.” However, the catch is that Mumyeong is not the only scary thing about this webtoon. The titular village is full of enigma, superstitions, and a cult that worships the “Mother.” If you are perplexed but fascinated, we are on the same page. But we must keep scrolling to know how the webtoon unfolds and what is happening in the Gwichon Village.',\n",
    "        'We are so back with Navier, Heinrey, and Duke Ergi! In case you are unfamiliar with it, The Remarried Empress  Webtoon focuses on the titular empress Navier Ellie Trovi. She was perfect in every sense and was set to spend her life as the empress of the Eastern Empire. But, betraying her loyal heart, her husband Sovieshu brings home a mistress, Rashta, and asks for a divorce. The webtoon takes an interesting turn as Navier agrees but also asks for permission to remarry, and this is when Heinrey, the emperor of the Western Empire, enters the scene. After several complications and conspiracies, they end up together. Now, The Remarried Empress Season 4 will disclose Navier’s life after becoming the empress of the Western Empire.',\n",
    "        'Minato Kannagi is a failed hunter. He has spent his whole life longing to become like his favorite heroic band of transcendents, 106 Progenitors. They are known for defeating the Tower of Monsters three centuries ago. However, Minato never expected to come across them when his high-school bully was about to kill him for looting their tombs. The Progenitors gave him a second opportunity in life by letting one of them take over his body. But Minato wants more; he wants them all. Read I Am The Strongest Transcendent to learn how Minato’s life has altered.',\n",
    "        'The thriller webtoon Surviving the Apocalypse is one of the most thrilling latest webtoons. It follows a world that will turn into nothing but ashes following the apocalypse. The protagonist has been locked up in prison his entire life with no notion of his identity or name. He doesn’t know when the world will come to an end or even if it’s ending. But he knows one thing—he has been imprisoned by his father.',\n",
    "        'Once known for its hidden weapons and poison, the Dang Clan of Sacheon is now on its way to ruin. However, this storyline changes when an outcast boy of the clan, Yeonmyeung Dang, awakens by recollecting memories of his past life. He was the ‘god of swords’ who devoted his whole life to mastering sword skills. Now, with his memories intact, will he be able to protect his family and live a peaceful life?',\n",
    "        'Emerald Midnight’s Lover is set in the year 1887, and the estate of Viscount de Rougemerle is thriving in the rolling hills of the French countryside. However, this glory of aristocracy is threatened to shatter with the return of his wayward son Cameron. The responsibility of maintaining the decorum falls on the shoulders of their Irish butler, Edgar O’Grady, while protecting his master’s daughter, Lady Victoria, and his childhood friend, June.',\n",
    "        'We have sworn to offer you the best of the romance genre this month, and One Husband Is Enough is one of those latest webtoons that will leave you wanting more. The webtoon follows a lonely girl who stumbles upon a VR fantasy dating simulator that allows her to be the dream girl, someone everyone loves. Choosing a character named Crocetta Gaetani, who grew up lonely like her, she is permanently stuck in this virtual world. In order to get out of this VR fantasy world, she needs to win over one of the MLs and win the game. Now, who becomes her male lead and how she gets out of this world is for you to find out.',\n",
    "        'Joseon must be saved! Baek Kang-hyeok is the greatest surgeon in the Republic of Korea. After touching a mysterious painting, the protagonist of Doctor Go to Joseon eventually lands in Joseon. He is transported to Joseon right before the outbreak of the Imjin War.',\n",
    "        'Killdistup! follows the life of trainee killer Ahn Eun-young. She receives her first mission to become a killer—to kill a boy from her class, So Si-ho. With trembling hands, she pulls the trigger, but it is not an ordinary target. Yes, this action webtoon is the story of a spy romance between two high school students centred around the abduction of the National Intelligence Service director.',\n",
    "        'In an era where schools are ranked by fighting, Another Meal Noir‘s protagonist, Jin Hyeong-woo, a student at Sampyeong High School, decides to transfer to another school. Will he be able to defeat the forces opposing his transfer? Will he finally be able to transfer to another school?',\n",
    "        'The Forces follows a genius trader, Geum-chan, who earns 100 million won per month. He accidentally catches the eye of a goblin who evaporates about 10 trillion won in one night. Following this incident, he enters a world of stunning desires. At the end of the desire, the story of the forces wanting to buy Korea and the world with money. Are you confused? Well, so am I, so let’s not miss an episode.',\n",
    "        'Money Hole follows the life of Kim Hoon, a part-timer who makes loan solicitation phone calls for the illegal loan company “Myeongdong Capital.” He is also the lover of Ms. Bae, the daughter of the chairman of this illegal company. The webtoon takes a thrilling twist when, one day, Ms. Bae asks him to pick up her daughter, Bae Je-ah, from school. Hoon goes to pick him up without thinking a lot but hears an unexpected offer from her. What is the offer?',\n",
    "        'Top Star from God is the latest horror drama webtoon. Born with a natural talent to become an entertainer or shaman, Kang Yeon-woo gains the ability to survive longer after overcoming a near-death experience. After meeting top star Kwon Seong-hyun, Yeon-woo’ life completely alters.',\n",
    "        'Men’s Version Audition concentrates on an unlucky female idol trainee named Lee Cho-Hee. She always gets eliminated from the debut group due to her boyish look. Considering it as her last opportunity, Lee applied for the idol survival show “High Teen Universe.” However, her gender was still an issue.',\n",
    "        'Somehow I Became A Sacrifice focuses on the protagonist Kim Gong-hee as he gets summoned to another world and, as the title suggests, becomes a sacrifice to the Dragon King. In order to return to the real world, she needs to seek help from those who summoned her. The Dragon King agrees to help her but in exchange for a contract marriage. A humorous but wild romance is about to begin in this other world, and we can’t wait to learn more.',\n",
    "        'The fantasy webtoon Please Read It follows a reincarnated protagonist who is a grimoire with all of his powers of the other world. Anyone who reads him will turn into a great wizard, but as he says, Please Read Me.',\n",
    "        'Dungeon Raiding Is Not Copy And Paste concentrates on the life of Seo Han-jun, who is cursed with a copy-and-paste skill. He has a limited life span of 20 years. The copy-and-paste skill only works on him, and his growth is blocked, so Seo is set to exist as a low-level hunter. However, one day, during a dungeon battle, he discovers a way to grow his skill. Soon after learning this new way of growing his skill, he becomes a world-class hunter and decides to prevent the upcoming disaster.'\n",
    "    ],\n",
    "    'category': [\n",
    "        'Fantasy',\n",
    "        'Romance',\n",
    "        'Romance',\n",
    "        'Thriller',\n",
    "        'Fantasy',\n",
    "        'Fantasy',\n",
    "        'Thriller',\n",
    "        'Action',\n",
    "        'Drama',\n",
    "        'Romance',\n",
    "        'Drama',\n",
    "        'Action',\n",
    "        'Action',\n",
    "        'Thriller',\n",
    "        'Thriller',\n",
    "        'Drama',\n",
    "        'Drama',\n",
    "        'Romance',\n",
    "        'Fantasy',\n",
    "        'Fantasy'\n",
    "    ]\n",
    "}"
   ]
  },
  {
   "cell_type": "code",
   "execution_count": 19,
   "metadata": {
    "id": "6jjSRVsbimhI"
   },
   "outputs": [],
   "source": [
    "# Creating DataFrame\n",
    "df = pd.DataFrame(webtoons_data)"
   ]
  },
  {
   "cell_type": "code",
   "execution_count": 20,
   "metadata": {
    "id": "Lqqr-k7viqWT"
   },
   "outputs": [],
   "source": [
    "# Text preprocessing\n",
    "vectorizer = TfidfVectorizer(\n",
    "    max_features=1000,\n",
    "    stop_words='english',\n",
    "    ngram_range=(1, 2)\n",
    ")"
   ]
  },
  {
   "cell_type": "code",
   "execution_count": 21,
   "metadata": {
    "id": "KauBka5ZixjI"
   },
   "outputs": [],
   "source": [
    "# Converting text to numerical features\n",
    "X = vectorizer.fit_transform(df['description'])"
   ]
  },
  {
   "cell_type": "code",
   "execution_count": 22,
   "metadata": {
    "id": "1He9oM0Ji4bO"
   },
   "outputs": [],
   "source": [
    "# Encode categories\n",
    "le = LabelEncoder()\n",
    "y = le.fit_transform(df['category'])\n"
   ]
  },
  {
   "cell_type": "code",
   "execution_count": 23,
   "metadata": {
    "id": "NB3NgC6zi85E"
   },
   "outputs": [],
   "source": [
    "# Splitting the dataset\n",
    "X_train, X_test, y_train, y_test = train_test_split(\n",
    "    X, y, test_size=0.2, random_state=42\n",
    ")"
   ]
  },
  {
   "cell_type": "code",
   "execution_count": 24,
   "metadata": {
    "colab": {
     "base_uri": "https://localhost:8080/",
     "height": 80
    },
    "id": "z2--e8ZZjBLs",
    "outputId": "6324741d-025e-4c52-988b-66d2c6bfb775"
   },
   "outputs": [
    {
     "data": {
      "text/html": [
       "<style>#sk-container-id-2 {\n",
       "  /* Definition of color scheme common for light and dark mode */\n",
       "  --sklearn-color-text: black;\n",
       "  --sklearn-color-line: gray;\n",
       "  /* Definition of color scheme for unfitted estimators */\n",
       "  --sklearn-color-unfitted-level-0: #fff5e6;\n",
       "  --sklearn-color-unfitted-level-1: #f6e4d2;\n",
       "  --sklearn-color-unfitted-level-2: #ffe0b3;\n",
       "  --sklearn-color-unfitted-level-3: chocolate;\n",
       "  /* Definition of color scheme for fitted estimators */\n",
       "  --sklearn-color-fitted-level-0: #f0f8ff;\n",
       "  --sklearn-color-fitted-level-1: #d4ebff;\n",
       "  --sklearn-color-fitted-level-2: #b3dbfd;\n",
       "  --sklearn-color-fitted-level-3: cornflowerblue;\n",
       "\n",
       "  /* Specific color for light theme */\n",
       "  --sklearn-color-text-on-default-background: var(--sg-text-color, var(--theme-code-foreground, var(--jp-content-font-color1, black)));\n",
       "  --sklearn-color-background: var(--sg-background-color, var(--theme-background, var(--jp-layout-color0, white)));\n",
       "  --sklearn-color-border-box: var(--sg-text-color, var(--theme-code-foreground, var(--jp-content-font-color1, black)));\n",
       "  --sklearn-color-icon: #696969;\n",
       "\n",
       "  @media (prefers-color-scheme: dark) {\n",
       "    /* Redefinition of color scheme for dark theme */\n",
       "    --sklearn-color-text-on-default-background: var(--sg-text-color, var(--theme-code-foreground, var(--jp-content-font-color1, white)));\n",
       "    --sklearn-color-background: var(--sg-background-color, var(--theme-background, var(--jp-layout-color0, #111)));\n",
       "    --sklearn-color-border-box: var(--sg-text-color, var(--theme-code-foreground, var(--jp-content-font-color1, white)));\n",
       "    --sklearn-color-icon: #878787;\n",
       "  }\n",
       "}\n",
       "\n",
       "#sk-container-id-2 {\n",
       "  color: var(--sklearn-color-text);\n",
       "}\n",
       "\n",
       "#sk-container-id-2 pre {\n",
       "  padding: 0;\n",
       "}\n",
       "\n",
       "#sk-container-id-2 input.sk-hidden--visually {\n",
       "  border: 0;\n",
       "  clip: rect(1px 1px 1px 1px);\n",
       "  clip: rect(1px, 1px, 1px, 1px);\n",
       "  height: 1px;\n",
       "  margin: -1px;\n",
       "  overflow: hidden;\n",
       "  padding: 0;\n",
       "  position: absolute;\n",
       "  width: 1px;\n",
       "}\n",
       "\n",
       "#sk-container-id-2 div.sk-dashed-wrapped {\n",
       "  border: 1px dashed var(--sklearn-color-line);\n",
       "  margin: 0 0.4em 0.5em 0.4em;\n",
       "  box-sizing: border-box;\n",
       "  padding-bottom: 0.4em;\n",
       "  background-color: var(--sklearn-color-background);\n",
       "}\n",
       "\n",
       "#sk-container-id-2 div.sk-container {\n",
       "  /* jupyter's `normalize.less` sets `[hidden] { display: none; }`\n",
       "     but bootstrap.min.css set `[hidden] { display: none !important; }`\n",
       "     so we also need the `!important` here to be able to override the\n",
       "     default hidden behavior on the sphinx rendered scikit-learn.org.\n",
       "     See: https://github.com/scikit-learn/scikit-learn/issues/21755 */\n",
       "  display: inline-block !important;\n",
       "  position: relative;\n",
       "}\n",
       "\n",
       "#sk-container-id-2 div.sk-text-repr-fallback {\n",
       "  display: none;\n",
       "}\n",
       "\n",
       "div.sk-parallel-item,\n",
       "div.sk-serial,\n",
       "div.sk-item {\n",
       "  /* draw centered vertical line to link estimators */\n",
       "  background-image: linear-gradient(var(--sklearn-color-text-on-default-background), var(--sklearn-color-text-on-default-background));\n",
       "  background-size: 2px 100%;\n",
       "  background-repeat: no-repeat;\n",
       "  background-position: center center;\n",
       "}\n",
       "\n",
       "/* Parallel-specific style estimator block */\n",
       "\n",
       "#sk-container-id-2 div.sk-parallel-item::after {\n",
       "  content: \"\";\n",
       "  width: 100%;\n",
       "  border-bottom: 2px solid var(--sklearn-color-text-on-default-background);\n",
       "  flex-grow: 1;\n",
       "}\n",
       "\n",
       "#sk-container-id-2 div.sk-parallel {\n",
       "  display: flex;\n",
       "  align-items: stretch;\n",
       "  justify-content: center;\n",
       "  background-color: var(--sklearn-color-background);\n",
       "  position: relative;\n",
       "}\n",
       "\n",
       "#sk-container-id-2 div.sk-parallel-item {\n",
       "  display: flex;\n",
       "  flex-direction: column;\n",
       "}\n",
       "\n",
       "#sk-container-id-2 div.sk-parallel-item:first-child::after {\n",
       "  align-self: flex-end;\n",
       "  width: 50%;\n",
       "}\n",
       "\n",
       "#sk-container-id-2 div.sk-parallel-item:last-child::after {\n",
       "  align-self: flex-start;\n",
       "  width: 50%;\n",
       "}\n",
       "\n",
       "#sk-container-id-2 div.sk-parallel-item:only-child::after {\n",
       "  width: 0;\n",
       "}\n",
       "\n",
       "/* Serial-specific style estimator block */\n",
       "\n",
       "#sk-container-id-2 div.sk-serial {\n",
       "  display: flex;\n",
       "  flex-direction: column;\n",
       "  align-items: center;\n",
       "  background-color: var(--sklearn-color-background);\n",
       "  padding-right: 1em;\n",
       "  padding-left: 1em;\n",
       "}\n",
       "\n",
       "\n",
       "/* Toggleable style: style used for estimator/Pipeline/ColumnTransformer box that is\n",
       "clickable and can be expanded/collapsed.\n",
       "- Pipeline and ColumnTransformer use this feature and define the default style\n",
       "- Estimators will overwrite some part of the style using the `sk-estimator` class\n",
       "*/\n",
       "\n",
       "/* Pipeline and ColumnTransformer style (default) */\n",
       "\n",
       "#sk-container-id-2 div.sk-toggleable {\n",
       "  /* Default theme specific background. It is overwritten whether we have a\n",
       "  specific estimator or a Pipeline/ColumnTransformer */\n",
       "  background-color: var(--sklearn-color-background);\n",
       "}\n",
       "\n",
       "/* Toggleable label */\n",
       "#sk-container-id-2 label.sk-toggleable__label {\n",
       "  cursor: pointer;\n",
       "  display: block;\n",
       "  width: 100%;\n",
       "  margin-bottom: 0;\n",
       "  padding: 0.5em;\n",
       "  box-sizing: border-box;\n",
       "  text-align: center;\n",
       "}\n",
       "\n",
       "#sk-container-id-2 label.sk-toggleable__label-arrow:before {\n",
       "  /* Arrow on the left of the label */\n",
       "  content: \"▸\";\n",
       "  float: left;\n",
       "  margin-right: 0.25em;\n",
       "  color: var(--sklearn-color-icon);\n",
       "}\n",
       "\n",
       "#sk-container-id-2 label.sk-toggleable__label-arrow:hover:before {\n",
       "  color: var(--sklearn-color-text);\n",
       "}\n",
       "\n",
       "/* Toggleable content - dropdown */\n",
       "\n",
       "#sk-container-id-2 div.sk-toggleable__content {\n",
       "  max-height: 0;\n",
       "  max-width: 0;\n",
       "  overflow: hidden;\n",
       "  text-align: left;\n",
       "  /* unfitted */\n",
       "  background-color: var(--sklearn-color-unfitted-level-0);\n",
       "}\n",
       "\n",
       "#sk-container-id-2 div.sk-toggleable__content.fitted {\n",
       "  /* fitted */\n",
       "  background-color: var(--sklearn-color-fitted-level-0);\n",
       "}\n",
       "\n",
       "#sk-container-id-2 div.sk-toggleable__content pre {\n",
       "  margin: 0.2em;\n",
       "  border-radius: 0.25em;\n",
       "  color: var(--sklearn-color-text);\n",
       "  /* unfitted */\n",
       "  background-color: var(--sklearn-color-unfitted-level-0);\n",
       "}\n",
       "\n",
       "#sk-container-id-2 div.sk-toggleable__content.fitted pre {\n",
       "  /* unfitted */\n",
       "  background-color: var(--sklearn-color-fitted-level-0);\n",
       "}\n",
       "\n",
       "#sk-container-id-2 input.sk-toggleable__control:checked~div.sk-toggleable__content {\n",
       "  /* Expand drop-down */\n",
       "  max-height: 200px;\n",
       "  max-width: 100%;\n",
       "  overflow: auto;\n",
       "}\n",
       "\n",
       "#sk-container-id-2 input.sk-toggleable__control:checked~label.sk-toggleable__label-arrow:before {\n",
       "  content: \"▾\";\n",
       "}\n",
       "\n",
       "/* Pipeline/ColumnTransformer-specific style */\n",
       "\n",
       "#sk-container-id-2 div.sk-label input.sk-toggleable__control:checked~label.sk-toggleable__label {\n",
       "  color: var(--sklearn-color-text);\n",
       "  background-color: var(--sklearn-color-unfitted-level-2);\n",
       "}\n",
       "\n",
       "#sk-container-id-2 div.sk-label.fitted input.sk-toggleable__control:checked~label.sk-toggleable__label {\n",
       "  background-color: var(--sklearn-color-fitted-level-2);\n",
       "}\n",
       "\n",
       "/* Estimator-specific style */\n",
       "\n",
       "/* Colorize estimator box */\n",
       "#sk-container-id-2 div.sk-estimator input.sk-toggleable__control:checked~label.sk-toggleable__label {\n",
       "  /* unfitted */\n",
       "  background-color: var(--sklearn-color-unfitted-level-2);\n",
       "}\n",
       "\n",
       "#sk-container-id-2 div.sk-estimator.fitted input.sk-toggleable__control:checked~label.sk-toggleable__label {\n",
       "  /* fitted */\n",
       "  background-color: var(--sklearn-color-fitted-level-2);\n",
       "}\n",
       "\n",
       "#sk-container-id-2 div.sk-label label.sk-toggleable__label,\n",
       "#sk-container-id-2 div.sk-label label {\n",
       "  /* The background is the default theme color */\n",
       "  color: var(--sklearn-color-text-on-default-background);\n",
       "}\n",
       "\n",
       "/* On hover, darken the color of the background */\n",
       "#sk-container-id-2 div.sk-label:hover label.sk-toggleable__label {\n",
       "  color: var(--sklearn-color-text);\n",
       "  background-color: var(--sklearn-color-unfitted-level-2);\n",
       "}\n",
       "\n",
       "/* Label box, darken color on hover, fitted */\n",
       "#sk-container-id-2 div.sk-label.fitted:hover label.sk-toggleable__label.fitted {\n",
       "  color: var(--sklearn-color-text);\n",
       "  background-color: var(--sklearn-color-fitted-level-2);\n",
       "}\n",
       "\n",
       "/* Estimator label */\n",
       "\n",
       "#sk-container-id-2 div.sk-label label {\n",
       "  font-family: monospace;\n",
       "  font-weight: bold;\n",
       "  display: inline-block;\n",
       "  line-height: 1.2em;\n",
       "}\n",
       "\n",
       "#sk-container-id-2 div.sk-label-container {\n",
       "  text-align: center;\n",
       "}\n",
       "\n",
       "/* Estimator-specific */\n",
       "#sk-container-id-2 div.sk-estimator {\n",
       "  font-family: monospace;\n",
       "  border: 1px dotted var(--sklearn-color-border-box);\n",
       "  border-radius: 0.25em;\n",
       "  box-sizing: border-box;\n",
       "  margin-bottom: 0.5em;\n",
       "  /* unfitted */\n",
       "  background-color: var(--sklearn-color-unfitted-level-0);\n",
       "}\n",
       "\n",
       "#sk-container-id-2 div.sk-estimator.fitted {\n",
       "  /* fitted */\n",
       "  background-color: var(--sklearn-color-fitted-level-0);\n",
       "}\n",
       "\n",
       "/* on hover */\n",
       "#sk-container-id-2 div.sk-estimator:hover {\n",
       "  /* unfitted */\n",
       "  background-color: var(--sklearn-color-unfitted-level-2);\n",
       "}\n",
       "\n",
       "#sk-container-id-2 div.sk-estimator.fitted:hover {\n",
       "  /* fitted */\n",
       "  background-color: var(--sklearn-color-fitted-level-2);\n",
       "}\n",
       "\n",
       "/* Specification for estimator info (e.g. \"i\" and \"?\") */\n",
       "\n",
       "/* Common style for \"i\" and \"?\" */\n",
       "\n",
       ".sk-estimator-doc-link,\n",
       "a:link.sk-estimator-doc-link,\n",
       "a:visited.sk-estimator-doc-link {\n",
       "  float: right;\n",
       "  font-size: smaller;\n",
       "  line-height: 1em;\n",
       "  font-family: monospace;\n",
       "  background-color: var(--sklearn-color-background);\n",
       "  border-radius: 1em;\n",
       "  height: 1em;\n",
       "  width: 1em;\n",
       "  text-decoration: none !important;\n",
       "  margin-left: 1ex;\n",
       "  /* unfitted */\n",
       "  border: var(--sklearn-color-unfitted-level-1) 1pt solid;\n",
       "  color: var(--sklearn-color-unfitted-level-1);\n",
       "}\n",
       "\n",
       ".sk-estimator-doc-link.fitted,\n",
       "a:link.sk-estimator-doc-link.fitted,\n",
       "a:visited.sk-estimator-doc-link.fitted {\n",
       "  /* fitted */\n",
       "  border: var(--sklearn-color-fitted-level-1) 1pt solid;\n",
       "  color: var(--sklearn-color-fitted-level-1);\n",
       "}\n",
       "\n",
       "/* On hover */\n",
       "div.sk-estimator:hover .sk-estimator-doc-link:hover,\n",
       ".sk-estimator-doc-link:hover,\n",
       "div.sk-label-container:hover .sk-estimator-doc-link:hover,\n",
       ".sk-estimator-doc-link:hover {\n",
       "  /* unfitted */\n",
       "  background-color: var(--sklearn-color-unfitted-level-3);\n",
       "  color: var(--sklearn-color-background);\n",
       "  text-decoration: none;\n",
       "}\n",
       "\n",
       "div.sk-estimator.fitted:hover .sk-estimator-doc-link.fitted:hover,\n",
       ".sk-estimator-doc-link.fitted:hover,\n",
       "div.sk-label-container:hover .sk-estimator-doc-link.fitted:hover,\n",
       ".sk-estimator-doc-link.fitted:hover {\n",
       "  /* fitted */\n",
       "  background-color: var(--sklearn-color-fitted-level-3);\n",
       "  color: var(--sklearn-color-background);\n",
       "  text-decoration: none;\n",
       "}\n",
       "\n",
       "/* Span, style for the box shown on hovering the info icon */\n",
       ".sk-estimator-doc-link span {\n",
       "  display: none;\n",
       "  z-index: 9999;\n",
       "  position: relative;\n",
       "  font-weight: normal;\n",
       "  right: .2ex;\n",
       "  padding: .5ex;\n",
       "  margin: .5ex;\n",
       "  width: min-content;\n",
       "  min-width: 20ex;\n",
       "  max-width: 50ex;\n",
       "  color: var(--sklearn-color-text);\n",
       "  box-shadow: 2pt 2pt 4pt #999;\n",
       "  /* unfitted */\n",
       "  background: var(--sklearn-color-unfitted-level-0);\n",
       "  border: .5pt solid var(--sklearn-color-unfitted-level-3);\n",
       "}\n",
       "\n",
       ".sk-estimator-doc-link.fitted span {\n",
       "  /* fitted */\n",
       "  background: var(--sklearn-color-fitted-level-0);\n",
       "  border: var(--sklearn-color-fitted-level-3);\n",
       "}\n",
       "\n",
       ".sk-estimator-doc-link:hover span {\n",
       "  display: block;\n",
       "}\n",
       "\n",
       "/* \"?\"-specific style due to the `<a>` HTML tag */\n",
       "\n",
       "#sk-container-id-2 a.estimator_doc_link {\n",
       "  float: right;\n",
       "  font-size: 1rem;\n",
       "  line-height: 1em;\n",
       "  font-family: monospace;\n",
       "  background-color: var(--sklearn-color-background);\n",
       "  border-radius: 1rem;\n",
       "  height: 1rem;\n",
       "  width: 1rem;\n",
       "  text-decoration: none;\n",
       "  /* unfitted */\n",
       "  color: var(--sklearn-color-unfitted-level-1);\n",
       "  border: var(--sklearn-color-unfitted-level-1) 1pt solid;\n",
       "}\n",
       "\n",
       "#sk-container-id-2 a.estimator_doc_link.fitted {\n",
       "  /* fitted */\n",
       "  border: var(--sklearn-color-fitted-level-1) 1pt solid;\n",
       "  color: var(--sklearn-color-fitted-level-1);\n",
       "}\n",
       "\n",
       "/* On hover */\n",
       "#sk-container-id-2 a.estimator_doc_link:hover {\n",
       "  /* unfitted */\n",
       "  background-color: var(--sklearn-color-unfitted-level-3);\n",
       "  color: var(--sklearn-color-background);\n",
       "  text-decoration: none;\n",
       "}\n",
       "\n",
       "#sk-container-id-2 a.estimator_doc_link.fitted:hover {\n",
       "  /* fitted */\n",
       "  background-color: var(--sklearn-color-fitted-level-3);\n",
       "}\n",
       "</style><div id=\"sk-container-id-2\" class=\"sk-top-container\"><div class=\"sk-text-repr-fallback\"><pre>DecisionTreeClassifier(random_state=42)</pre><b>In a Jupyter environment, please rerun this cell to show the HTML representation or trust the notebook. <br />On GitHub, the HTML representation is unable to render, please try loading this page with nbviewer.org.</b></div><div class=\"sk-container\" hidden><div class=\"sk-item\"><div class=\"sk-estimator fitted sk-toggleable\"><input class=\"sk-toggleable__control sk-hidden--visually\" id=\"sk-estimator-id-2\" type=\"checkbox\" checked><label for=\"sk-estimator-id-2\" class=\"sk-toggleable__label fitted sk-toggleable__label-arrow fitted\">&nbsp;&nbsp;DecisionTreeClassifier<a class=\"sk-estimator-doc-link fitted\" rel=\"noreferrer\" target=\"_blank\" href=\"https://scikit-learn.org/1.5/modules/generated/sklearn.tree.DecisionTreeClassifier.html\">?<span>Documentation for DecisionTreeClassifier</span></a><span class=\"sk-estimator-doc-link fitted\">i<span>Fitted</span></span></label><div class=\"sk-toggleable__content fitted\"><pre>DecisionTreeClassifier(random_state=42)</pre></div> </div></div></div></div>"
      ],
      "text/plain": [
       "DecisionTreeClassifier(random_state=42)"
      ]
     },
     "execution_count": 24,
     "metadata": {},
     "output_type": "execute_result"
    }
   ],
   "source": [
    "# Creating and train the model\n",
    "model = DecisionTreeClassifier(random_state=42)\n",
    "model.fit(X_train, y_train)\n"
   ]
  },
  {
   "cell_type": "code",
   "execution_count": 25,
   "metadata": {
    "id": "fMnTAidhjFRc"
   },
   "outputs": [],
   "source": [
    "# Make predictions\n",
    "y_pred = model.predict(X_test)"
   ]
  },
  {
   "cell_type": "code",
   "execution_count": 26,
   "metadata": {
    "colab": {
     "base_uri": "https://localhost:8080/"
    },
    "id": "b7sqwqhxjJW2",
    "outputId": "6b534b2a-779a-4a7a-d77a-8cbb7d0679e0"
   },
   "outputs": [
    {
     "name": "stdout",
     "output_type": "stream",
     "text": [
      "Classification Report:\n",
      "              precision    recall  f1-score   support\n",
      "\n",
      "       Drama       0.25      1.00      0.40         1\n",
      "     Fantasy       0.00      0.00      0.00         1\n",
      "     Romance       0.00      0.00      0.00         2\n",
      "\n",
      "    accuracy                           0.25         4\n",
      "   macro avg       0.08      0.33      0.13         4\n",
      "weighted avg       0.06      0.25      0.10         4\n",
      "\n"
     ]
    },
    {
     "name": "stderr",
     "output_type": "stream",
     "text": [
      "/usr/local/lib/python3.10/dist-packages/sklearn/metrics/_classification.py:1531: UndefinedMetricWarning: Precision is ill-defined and being set to 0.0 in labels with no predicted samples. Use `zero_division` parameter to control this behavior.\n",
      "  _warn_prf(average, modifier, f\"{metric.capitalize()} is\", len(result))\n",
      "/usr/local/lib/python3.10/dist-packages/sklearn/metrics/_classification.py:1531: UndefinedMetricWarning: Precision is ill-defined and being set to 0.0 in labels with no predicted samples. Use `zero_division` parameter to control this behavior.\n",
      "  _warn_prf(average, modifier, f\"{metric.capitalize()} is\", len(result))\n",
      "/usr/local/lib/python3.10/dist-packages/sklearn/metrics/_classification.py:1531: UndefinedMetricWarning: Precision is ill-defined and being set to 0.0 in labels with no predicted samples. Use `zero_division` parameter to control this behavior.\n",
      "  _warn_prf(average, modifier, f\"{metric.capitalize()} is\", len(result))\n"
     ]
    }
   ],
   "source": [
    "# Printing classification report\n",
    "# Get unique labels in y_test\n",
    "unique_labels = np.unique(y_test)\n",
    "\n",
    "# Getting target names for the unique labels\n",
    "target_names = [le.classes_[label] for label in unique_labels]\n",
    "\n",
    "print(\"Classification Report:\")\n",
    "print(classification_report(y_test, y_pred, target_names=target_names, labels=unique_labels))\n"
   ]
  },
  {
   "cell_type": "code",
   "execution_count": 27,
   "metadata": {
    "id": "cBdOYWRXjPg8"
   },
   "outputs": [],
   "source": [
    "# Function to classify new webtoons\n",
    "def classify_webtoon(description):\n",
    "    \"\"\"\n",
    "    Classify a new webtoon description into a category\n",
    "    \"\"\"\n",
    "    # Transform the text\n",
    "    X_new = vectorizer.transform([description])\n",
    "\n",
    "    # Predict the category\n",
    "    prediction = model.predict(X_new)\n",
    "\n",
    "    # Get the predicted category name\n",
    "    category = le.inverse_transform(prediction)[0]\n",
    "\n",
    "    # Get prediction probabilities\n",
    "    probs = model.predict_proba(X_new)\n",
    "    confidence = max(probs[0]) * 100\n",
    "\n",
    "    return category, confidence"
   ]
  },
  {
   "cell_type": "code",
   "execution_count": 28,
   "metadata": {
    "colab": {
     "base_uri": "https://localhost:8080/"
    },
    "id": "c1-GxZaDkK_Q",
    "outputId": "53aaca39-39af-4fd8-c392-c7a290416e3f"
   },
   "outputs": [
    {
     "name": "stdout",
     "output_type": "stream",
     "text": [
      "\n",
      "Testing classifier with new descriptions:\n",
      "\n",
      "Test Description 1:\n",
      "Predicted Category: Drama\n",
      "Confidence: 100.00%\n",
      "\n",
      "Test Description 2:\n",
      "Predicted Category: Fantasy\n",
      "Confidence: 100.00%\n",
      "\n",
      "Test Description 3:\n",
      "Predicted Category: Fantasy\n",
      "Confidence: 100.00%\n",
      "\n",
      "Test Description 4:\n",
      "Predicted Category: Drama\n",
      "Confidence: 100.00%\n"
     ]
    }
   ],
   "source": [
    "# Testing the classifier with new descriptions\n",
    "test_descriptions = [\n",
    "    \"\"\"Devil’s Son-In-Law is one of those latest webtoons that will get interesting with each episode. Ahn Jae-rim is the strongest villain and is willing to marry his normal girlfriend. However, it turns out that his girlfriend’s family is the strongest hero family. Concealing his true identity, Ahn is acting like a good son-in-law, but it’s harder than one can imagine. Moreover, his in-laws are mistaking him as an aspiring hero.\"\"\",\n",
    "\n",
    "    \"\"\"The Villainess Is Tired of Everything follows the titular character, who is set to spend her whole life with a cat, grow old, and eventually die. It’s been a year since she’s been possessed by a villainess. She believes every human relationship is worthless, so now she will just stay at home and create magical tools. However, soon, a plot twist happens in her life—the wizard who makes magical tools is too handsome!\"\"\",\n",
    "\n",
    "    \"\"\"Unscratched Lottery Ticket follows the main character, Eun-ji, a pretty face but fat. Taking advantage of the fact that she eats more than others, she became a mukbang YouTuber. However, she is often ridiculed for her body. She loses all hope due to her stagnant number of subscribers. But then, one fine day, she scratches an S lottery ticket, and her life alters overnight.\"\"\",\n",
    "\n",
    "    \"\"\"The thriller webtoon Zombie Mutual Aid deals with a dark Korean society in which zombies have become a daily occurrence. Due to this unusual situation, the dark aspects of our society are on the rise. Amidst all this, the webtoon focuses on a zombie-specialized mutual aid company: Has someone’s precious family, lover, or friend become a zombie? We will take care of you comfortably on your way. Goodbye, Sangjo, a zombie-specialized mutual aid company!\"\"\"\n",
    "]\n",
    "\n",
    "print(\"\\nTesting classifier with new descriptions:\")\n",
    "for i, desc in enumerate(test_descriptions, 1):\n",
    "    category, confidence = classify_webtoon(desc)\n",
    "    print(f\"\\nTest Description {i}:\")\n",
    "    print(f\"Predicted Category: {category}\")\n",
    "    print(f\"Confidence: {confidence:.2f}%\")\n"
   ]
  },
  {
   "cell_type": "code",
   "execution_count": 29,
   "metadata": {
    "colab": {
     "base_uri": "https://localhost:8080/"
    },
    "id": "mG2taowwklk-",
    "outputId": "2c10f0ab-be58-49f6-adf5-dcd076f53cae"
   },
   "outputs": [
    {
     "name": "stdout",
     "output_type": "stream",
     "text": [
      "\n",
      "Top 10 Most Important Words for Classification:\n",
      "              feature  importance\n",
      "341              gets    0.171617\n",
      "352       high school    0.171617\n",
      "401              life    0.155116\n",
      "337           follows    0.145215\n",
      "633      reincarnated    0.118812\n",
      "281    easily adapted    0.118812\n",
      "448     memories past    0.118812\n",
      "668  sacrifice dragon    0.000000\n",
      "667         sacrifice    0.000000\n",
      "666       sacheon way    0.000000\n"
     ]
    }
   ],
   "source": [
    "# Feature importance analysis\n",
    "feature_names = vectorizer.get_feature_names_out()\n",
    "feature_importance = pd.DataFrame({\n",
    "    'feature': feature_names,\n",
    "    'importance': model.feature_importances_\n",
    "})\n",
    "feature_importance = feature_importance.sort_values('importance', ascending=False)\n",
    "\n",
    "print(\"\\nTop 10 Most Important Words for Classification:\")\n",
    "print(feature_importance.head(10))"
   ]
  },
  {
   "cell_type": "code",
   "execution_count": 30,
   "metadata": {
    "colab": {
     "base_uri": "https://localhost:8080/"
    },
    "id": "V7rxK8zykrz-",
    "outputId": "0d44b7cb-1425-4643-b92d-dc7ff1fab489"
   },
   "outputs": [
    {
     "name": "stdout",
     "output_type": "stream",
     "text": [
      "\n",
      "Category Distribution in Dataset:\n",
      "category\n",
      "Fantasy     5\n",
      "Romance     4\n",
      "Thriller    4\n",
      "Drama       4\n",
      "Action      3\n",
      "Name: count, dtype: int64\n"
     ]
    }
   ],
   "source": [
    "# Category distribution\n",
    "print(\"\\nCategory Distribution in Dataset:\")\n",
    "print(df['category'].value_counts())"
   ]
  },
  {
   "cell_type": "code",
   "execution_count": null,
   "metadata": {
    "id": "7EI1CJgFkzf-"
   },
   "outputs": [],
   "source": []
  },
  {
   "cell_type": "markdown",
   "metadata": {
    "id": "h0q83YFS9lIb"
   },
   "source": [
    "**Task 2:**\n",
    "Performing a basic sentiment analysis on user comments"
   ]
  },
  {
   "cell_type": "code",
   "execution_count": 31,
   "metadata": {
    "id": "d-bf5Z3v9hL5"
   },
   "outputs": [],
   "source": [
    "from textblob import TextBlob\n",
    "import numpy as np"
   ]
  },
  {
   "cell_type": "code",
   "execution_count": 32,
   "metadata": {
    "id": "fnrCApuW9zsQ"
   },
   "outputs": [],
   "source": [
    "# Creating Sample comments about Manga vs Manhwa differences\n",
    "comments = [\n",
    "    \"I love how manga has more detailed art styles, it's really amazing!\",\n",
    "    \"Manhwa's vertical scrolling format is so much easier to read on phones.\",\n",
    "    \"The colored pages in manhwa make it superior to manga.\",\n",
    "    \"Manga stories are usually better developed than manhwa.\",\n",
    "    \"I hate how slow manga releases are compared to manhwa.\",\n",
    "    \"Both manga and manhwa have their own unique charm!\",\n",
    "    \"Manhwa lacks the depth that manga stories have.\",\n",
    "    \"The cultural differences between manga and manhwa make them both interesting.\",\n",
    "    \"Manga art is too confusing to follow sometimes, manhwa is clearer.\",\n",
    "    \"Reading right to left in manga is annoying and unnatural.\"\n",
    "]"
   ]
  },
  {
   "cell_type": "code",
   "execution_count": 33,
   "metadata": {
    "id": "ZkpWBNaO-BF3"
   },
   "outputs": [],
   "source": [
    "def analyze_sentiment(comments):\n",
    "    # Lists to store sentiment scores and classifications\n",
    "    sentiments = []\n",
    "    classifications = []\n",
    "\n",
    "    for comment in comments:\n",
    "        # Creating TextBlob object\n",
    "        blob = TextBlob(comment)\n",
    "        # Getting sentiment polarity (-1 to 1)\n",
    "        sentiment = blob.sentiment.polarity\n",
    "        sentiments.append(sentiment)\n",
    "\n",
    "        # Classify as positive or negative\n",
    "        if sentiment > 0:\n",
    "            classifications.append('positive')\n",
    "        elif sentiment < 0:\n",
    "            classifications.append('negative')\n",
    "        else:\n",
    "            classifications.append('neutral')\n",
    "\n",
    "    return sentiments, classifications"
   ]
  },
  {
   "cell_type": "code",
   "execution_count": 34,
   "metadata": {
    "id": "Zt5o4CBq-G0Y"
   },
   "outputs": [],
   "source": [
    "# Performing analysis\n",
    "sentiments, classifications = analyze_sentiment(comments)"
   ]
  },
  {
   "cell_type": "code",
   "execution_count": 35,
   "metadata": {
    "id": "We3ob4XK-KJ2"
   },
   "outputs": [],
   "source": [
    "# Calculating statistics\n",
    "total_comments = len(comments)\n",
    "positive_count = classifications.count('positive')\n",
    "negative_count = classifications.count('negative')\n",
    "neutral_count = classifications.count('neutral')\n"
   ]
  },
  {
   "cell_type": "code",
   "execution_count": 36,
   "metadata": {
    "id": "IqKyRWGp-NCd"
   },
   "outputs": [],
   "source": [
    "# Calculating percentages\n",
    "positive_percentage = (positive_count / total_comments) * 100\n",
    "negative_percentage = (negative_count / total_comments) * 100\n",
    "neutral_percentage = (neutral_count / total_comments) * 100"
   ]
  },
  {
   "cell_type": "code",
   "execution_count": 37,
   "metadata": {
    "colab": {
     "base_uri": "https://localhost:8080/"
    },
    "id": "KcM_5Lh4-QzU",
    "outputId": "b2b7fa43-815f-4fbf-d1ed-24b51c93b219"
   },
   "outputs": [
    {
     "name": "stdout",
     "output_type": "stream",
     "text": [
      "\n",
      "Sentiment Analysis Results:\n",
      "Total comments analyzed: 10\n",
      "Positive comments: 6 (60.0%)\n",
      "Negative comments: 3 (30.0%)\n",
      "Neutral comments: 1 (10.0%)\n"
     ]
    }
   ],
   "source": [
    "# Printing results\n",
    "print(\"\\nSentiment Analysis Results:\")\n",
    "print(f\"Total comments analyzed: {total_comments}\")\n",
    "print(f\"Positive comments: {positive_count} ({positive_percentage:.1f}%)\")\n",
    "print(f\"Negative comments: {negative_count} ({negative_percentage:.1f}%)\")\n",
    "print(f\"Neutral comments: {neutral_count} ({neutral_percentage:.1f}%)\")"
   ]
  },
  {
   "cell_type": "code",
   "execution_count": 38,
   "metadata": {
    "colab": {
     "base_uri": "https://localhost:8080/"
    },
    "id": "VE5faph6-UtN",
    "outputId": "ddeccfe8-8501-4223-cb89-41209d9ec847"
   },
   "outputs": [
    {
     "name": "stdout",
     "output_type": "stream",
     "text": [
      "\n",
      "Detailed Analysis:\n",
      "\n",
      "Comment 1:\n",
      "Text: I love how manga has more detailed art styles, it's really amazing!\n",
      "Sentiment Score: 0.54\n",
      "Classification: positive\n",
      "\n",
      "Comment 2:\n",
      "Text: Manhwa's vertical scrolling format is so much easier to read on phones.\n",
      "Sentiment Score: 0.20\n",
      "Classification: positive\n",
      "\n",
      "Comment 3:\n",
      "Text: The colored pages in manhwa make it superior to manga.\n",
      "Sentiment Score: 0.70\n",
      "Classification: positive\n",
      "\n",
      "Comment 4:\n",
      "Text: Manga stories are usually better developed than manhwa.\n",
      "Sentiment Score: 0.30\n",
      "Classification: positive\n",
      "\n",
      "Comment 5:\n",
      "Text: I hate how slow manga releases are compared to manhwa.\n",
      "Sentiment Score: -0.55\n",
      "Classification: negative\n",
      "\n",
      "Comment 6:\n",
      "Text: Both manga and manhwa have their own unique charm!\n",
      "Sentiment Score: 0.53\n",
      "Classification: positive\n",
      "\n",
      "Comment 7:\n",
      "Text: Manhwa lacks the depth that manga stories have.\n",
      "Sentiment Score: 0.00\n",
      "Classification: neutral\n",
      "\n",
      "Comment 8:\n",
      "Text: The cultural differences between manga and manhwa make them both interesting.\n",
      "Sentiment Score: 0.30\n",
      "Classification: positive\n",
      "\n",
      "Comment 9:\n",
      "Text: Manga art is too confusing to follow sometimes, manhwa is clearer.\n",
      "Sentiment Score: -0.30\n",
      "Classification: negative\n",
      "\n",
      "Comment 10:\n",
      "Text: Reading right to left in manga is annoying and unnatural.\n",
      "Sentiment Score: -0.17\n",
      "Classification: negative\n"
     ]
    }
   ],
   "source": [
    "# Printing detailed analysis\n",
    "print(\"\\nDetailed Analysis:\")\n",
    "for i, (comment, sentiment, classification) in enumerate(zip(comments, sentiments, classifications), 1):\n",
    "    print(f\"\\nComment {i}:\")\n",
    "    print(f\"Text: {comment}\")\n",
    "    print(f\"Sentiment Score: {sentiment:.2f}\")\n",
    "    print(f\"Classification: {classification}\")"
   ]
  },
  {
   "cell_type": "code",
   "execution_count": null,
   "metadata": {
    "id": "qfO6Zd6w-YvS"
   },
   "outputs": [],
   "source": []
  },
  {
   "cell_type": "markdown",
   "metadata": {
    "id": "fztbooMEAh4C"
   },
   "source": [
    "**Task 3:**\n",
    "Building a basic chatbot"
   ]
  },
  {
   "cell_type": "code",
   "execution_count": 39,
   "metadata": {
    "id": "90KCmdnhAg-X"
   },
   "outputs": [],
   "source": [
    "import nltk\n",
    "from nltk.tokenize import word_tokenize\n",
    "from nltk.corpus import stopwords\n",
    "from string import punctuation\n",
    "import re"
   ]
  },
  {
   "cell_type": "code",
   "execution_count": 40,
   "metadata": {
    "colab": {
     "base_uri": "https://localhost:8080/"
    },
    "id": "TWo5cx3Jh1L5",
    "outputId": "79d7e985-d3da-4f2f-ffc9-20647f141857"
   },
   "outputs": [
    {
     "name": "stderr",
     "output_type": "stream",
     "text": [
      "[nltk_data] Downloading package punkt to /root/nltk_data...\n",
      "[nltk_data]   Unzipping tokenizers/punkt.zip.\n",
      "[nltk_data] Downloading package stopwords to /root/nltk_data...\n",
      "[nltk_data]   Unzipping corpora/stopwords.zip.\n"
     ]
    },
    {
     "data": {
      "text/plain": [
       "True"
      ]
     },
     "execution_count": 40,
     "metadata": {},
     "output_type": "execute_result"
    }
   ],
   "source": [
    "# Downloading required NLTK data\n",
    "nltk.download('punkt')\n",
    "nltk.download('stopwords')"
   ]
  },
  {
   "cell_type": "code",
   "execution_count": 47,
   "metadata": {
    "colab": {
     "base_uri": "https://localhost:8080/"
    },
    "id": "j7oAQfl_h8wT",
    "outputId": "47e87235-f34f-4be6-888b-81be6ac76570"
   },
   "outputs": [
    {
     "name": "stdout",
     "output_type": "stream",
     "text": [
      "Castle Swimmer Chatbot: Hi! I can answer questions about Castle Swimmer chapters 83-89.\n",
      "You can ask things like:\n",
      "- What is Castle Swimmer about?\n",
      "- Who are the main characters?\n",
      "- Tell me about the prophecy\n",
      "(Type 'quit' to exit)\n",
      "\n",
      "You: What is Castle Swimmer about?\n",
      "Chatbot: Castle Swimmer is a fantasy webtoon that Castle Swimmer is a fantasy webtoon about Kappa, a prophesied Beacon, who's destined to fulfill prophecies\n",
      "\n",
      "You: Who are the main characters?\n",
      "Chatbot: The main characters are:\n",
      "Kappa: The main protagonist and the Beacon, destined to fulfill prophecies across the seas\n",
      "Siren: A prince who struggles between duty and his growing feelings for Kappa\n",
      "Sisters: The mysterious prophets who reveal new prophecies about Kappa's destiny\n",
      "\n",
      "You: Tell me about the prophecy?\n",
      "Chatbot: The new prophecy reveals: New revelations about Kappa's role as the Beacon Mysterious predictions about the future of the underwater kingdoms Challenges to previously established prophecies\n",
      "\n",
      "You: exit\n",
      "Chatbot: Goodbye!\n"
     ]
    }
   ],
   "source": [
    "class CastleSwimmerChatbot:\n",
    "    def __init__(self):\n",
    "        self.knowledge_base = {\n",
    "            'plot': [\n",
    "                \"Castle Swimmer is a fantasy webtoon about Kappa, a prophesied Beacon, who's destined to fulfill prophecies\",\n",
    "                \"The story follows Kappa's journey as he discovers new prophecies in chapters 83-89\",\n",
    "                \"The series explores themes of destiny, free will, and challenging predetermined fates\"\n",
    "            ],\n",
    "            'characters': {\n",
    "                'kappa': \"The main protagonist and the Beacon, destined to fulfill prophecies across the seas\",\n",
    "                'siren': \"A prince who struggles between duty and his growing feelings for Kappa\",\n",
    "                'sisters': \"The mysterious prophets who reveal new prophecies about Kappa's destiny\"\n",
    "            },\n",
    "            'prophecy': [\n",
    "                \"New revelations about Kappa's role as the Beacon\",\n",
    "                \"Mysterious predictions about the future of the underwater kingdoms\",\n",
    "                \"Challenges to previously established prophecies\"\n",
    "            ],\n",
    "            'setting': \"The story takes place in an underwater fantasy world with various aquatic kingdoms and castles\"\n",
    "        }\n",
    "\n",
    "        self.response_patterns = {\n",
    "            r'(?i).*what.*castle\\s*swimmer.*': self._get_plot_info,\n",
    "            r'(?i).*who.*main\\s*characters.*': self._get_character_info,\n",
    "            r'(?i).*prophecy.*': self._get_prophecy_info,\n",
    "            r'(?i).*where.*take.*place.*': self._get_setting_info,\n",
    "            r'(?i).*who.*kappa.*': lambda: self._get_specific_character_info('kappa'),\n",
    "            r'(?i).*who.*siren.*': lambda: self._get_specific_character_info('siren')\n",
    "        }\n",
    "\n",
    "    def _preprocess_text(self, text):\n",
    "        # Converting to lowercase and tokenize\n",
    "        tokens = word_tokenize(text.lower())\n",
    "        # Removing stopwords and punctuation\n",
    "        stop_words = set(stopwords.words('english'))\n",
    "        tokens = [t for t in tokens if t not in stop_words and t not in punctuation]\n",
    "        return tokens\n",
    "\n",
    "    def _get_plot_info(self):\n",
    "        return \"Castle Swimmer is a fantasy webtoon that \" + self.knowledge_base['plot'][0]\n",
    "\n",
    "    def _get_character_info(self):\n",
    "        characters = [f\"{name.title()}: {desc}\" for name, desc in self.knowledge_base['characters'].items()]\n",
    "        return \"The main characters are:\\n\" + \"\\n\".join(characters)\n",
    "\n",
    "    def _get_specific_character_info(self, character):\n",
    "        if character in self.knowledge_base['characters']:\n",
    "            return f\"{character.title()}: {self.knowledge_base['characters'][character]}\"\n",
    "        return \"I don't have information about that character.\"\n",
    "\n",
    "    def _get_prophecy_info(self):\n",
    "        return \"The new prophecy reveals: \" + \" \".join(self.knowledge_base['prophecy'])\n",
    "\n",
    "    def _get_setting_info(self):\n",
    "        return self.knowledge_base['setting']\n",
    "\n",
    "    def get_response(self, user_input):\n",
    "        # Check for exit command\n",
    "        if user_input.lower() in ['quit', 'exit', 'bye']:\n",
    "            return \"Goodbye! Thanks for chatting about Castle Swimmer!\"\n",
    "\n",
    "        # Match patterns and get response\n",
    "        for pattern, response_func in self.response_patterns.items():\n",
    "            if re.match(pattern, user_input):\n",
    "                return response_func()\n",
    "\n",
    "        # Default response if no pattern matches\n",
    "        return \"I'm not sure about that. You can ask me about the plot, characters, or the new prophecy in Castle Swimmer!\"\n",
    "\n",
    "def main():\n",
    "    chatbot = CastleSwimmerChatbot()\n",
    "    print(\"Castle Swimmer Chatbot: Hi! I can answer questions about Castle Swimmer chapters 83-89.\")\n",
    "    print(\"You can ask things like:\")\n",
    "    print(\"- What is Castle Swimmer about?\")\n",
    "    print(\"- Who are the main characters?\")\n",
    "    print(\"- Tell me about the prophecy\")\n",
    "    print(\"(Type 'quit' to exit)\")\n",
    "\n",
    "    while True:\n",
    "        user_input = input(\"\\nYou: \")\n",
    "        if user_input.lower() in ['quit', 'exit', 'bye']:\n",
    "            print(\"Chatbot: Goodbye!\")\n",
    "            break\n",
    "\n",
    "        response = chatbot.get_response(user_input)\n",
    "        print(\"Chatbot:\", response)\n",
    "\n",
    "\n",
    "if __name__ == \"__main__\":\n",
    "   main()"
   ]
  },
  {
   "cell_type": "code",
   "execution_count": null,
   "metadata": {
    "id": "Bu94NwjyiQHm"
   },
   "outputs": [],
   "source": []
  }
 ],
 "metadata": {
  "colab": {
   "provenance": []
  },
  "kernelspec": {
   "display_name": "Python 3 (ipykernel)",
   "language": "python",
   "name": "python3"
  },
  "language_info": {
   "codemirror_mode": {
    "name": "ipython",
    "version": 3
   },
   "file_extension": ".py",
   "mimetype": "text/x-python",
   "name": "python",
   "nbconvert_exporter": "python",
   "pygments_lexer": "ipython3",
   "version": "3.12.4"
  }
 },
 "nbformat": 4,
 "nbformat_minor": 4
}
